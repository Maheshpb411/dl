{
  "nbformat": 4,
  "nbformat_minor": 0,
  "metadata": {
    "colab": {
      "provenance": []
    },
    "kernelspec": {
      "name": "python3",
      "display_name": "Python 3"
    },
    "language_info": {
      "name": "python"
    }
  },
  "cells": [
    {
      "cell_type": "code",
      "source": [
        "import re\n",
        "import numpy as np\n",
        "import matplotlib.pyplot as plt\n",
        "\n",
        "sentences = 'data.txt'"
      ],
      "metadata": {
        "id": "NScvx8UVrziP"
      },
      "execution_count": null,
      "outputs": []
    },
    {
      "cell_type": "code",
      "source": [
        "file = open('data.txt','r')\n",
        "s = \"\"\n",
        "\n",
        "for i in file :\n",
        "  s=s+i;\n",
        "print(s)"
      ],
      "metadata": {
        "colab": {
          "base_uri": "https://localhost:8080/"
        },
        "id": "DjrsQXBYr4Xy",
        "outputId": "2ea89905-4feb-413d-fee8-4cd696a396fb"
      },
      "execution_count": null,
      "outputs": [
        {
          "output_type": "stream",
          "name": "stdout",
          "text": [
            "Thanks to a hands-on guide introducing programming\n",
            " fundamentals alongside topics in computational \n",
            " linguistics, plus comprehensive API documentation,\n",
            " uitable for linguists, engineers, students, \n",
            " educators, researchers, and industry users alike. \n",
            " NLTK is available for Windows, Mac OS X, and Linux. Best of all, NLTK is a free, open source, community-driven project.\n",
            "\n",
            "NLTK has been called “a wonderful tool for teaching, and working in, computational linguistics using Python,” and “an amazing library to play with natural language.”\n"
          ]
        }
      ]
    },
    {
      "cell_type": "code",
      "source": [
        "sentences = s"
      ],
      "metadata": {
        "id": "JQXr-GUwr6uh"
      },
      "execution_count": null,
      "outputs": []
    },
    {
      "cell_type": "code",
      "source": [
        "import nltk\n",
        "nltk.download('punkt')\n",
        "import re\n",
        "import numpy as np\n",
        "\n",
        "# execute the text here as :\n",
        "file = open('data.txt','r')\n",
        "s = \"\"\n",
        "\n",
        "for i in file :\n",
        "  s=s+i;\n",
        "print(s)\n",
        "dataset = nltk.sent_tokenize(s)\n",
        "for i in range(len(dataset)):\n",
        "\tdataset[i] = dataset[i].lower()\n",
        "\tdataset[i] = re.sub(r'\\W', ' ', dataset[i])\n",
        "\tdataset[i] = re.sub(r'\\s+', ' ', dataset[i])"
      ],
      "metadata": {
        "colab": {
          "base_uri": "https://localhost:8080/"
        },
        "id": "jnWEoGeXQn6c",
        "outputId": "2825da09-25a1-479d-f259-bd4568e62464"
      },
      "execution_count": null,
      "outputs": [
        {
          "output_type": "stream",
          "name": "stdout",
          "text": [
            "Thanks to a hands-on guide introducing programming\n",
            " fundamentals alongside topics in computational \n",
            " linguistics, plus comprehensive API documentation,\n",
            " uitable for linguists, engineers, students, \n",
            " educators, researchers, and industry users alike. \n",
            " NLTK is available for Windows, Mac OS X, and Linux. Best of all, NLTK is a free, open source, community-driven project.\n",
            "\n",
            "NLTK has been called “a wonderful tool for teaching, and working in, computational linguistics using Python,” and “an amazing library to play with natural language.”\n"
          ]
        },
        {
          "output_type": "stream",
          "name": "stderr",
          "text": [
            "[nltk_data] Downloading package punkt to /root/nltk_data...\n",
            "[nltk_data]   Package punkt is already up-to-date!\n"
          ]
        }
      ]
    },
    {
      "cell_type": "code",
      "source": [
        "word2count = {}\n",
        "for data in dataset:\n",
        "\twords = nltk.word_tokenize(data)\n",
        "\tfor word in words:\n",
        "\t\tif word not in word2count.keys():\n",
        "\t\t\tword2count[word] = 1\n",
        "\t\telse:\n",
        "\t\t\tword2count[word] += 1"
      ],
      "metadata": {
        "id": "bKFP2iYiQxOI"
      },
      "execution_count": null,
      "outputs": []
    },
    {
      "cell_type": "code",
      "source": [
        "word2count"
      ],
      "metadata": {
        "colab": {
          "base_uri": "https://localhost:8080/"
        },
        "id": "e6_g81qsQxZU",
        "outputId": "29a9ecbe-4c2a-465f-f911-be8ab834f500"
      },
      "execution_count": null,
      "outputs": [
        {
          "output_type": "execute_result",
          "data": {
            "text/plain": [
              "{'thanks': 1,\n",
              " 'to': 2,\n",
              " 'a': 3,\n",
              " 'hands': 1,\n",
              " 'on': 1,\n",
              " 'guide': 1,\n",
              " 'introducing': 1,\n",
              " 'programming': 1,\n",
              " 'fundamentals': 1,\n",
              " 'alongside': 1,\n",
              " 'topics': 1,\n",
              " 'in': 2,\n",
              " 'computational': 2,\n",
              " 'linguistics': 2,\n",
              " 'plus': 1,\n",
              " 'comprehensive': 1,\n",
              " 'api': 1,\n",
              " 'documentation': 1,\n",
              " 'uitable': 1,\n",
              " 'for': 3,\n",
              " 'linguists': 1,\n",
              " 'engineers': 1,\n",
              " 'students': 1,\n",
              " 'educators': 1,\n",
              " 'researchers': 1,\n",
              " 'and': 4,\n",
              " 'industry': 1,\n",
              " 'users': 1,\n",
              " 'alike': 1,\n",
              " 'nltk': 3,\n",
              " 'is': 2,\n",
              " 'available': 1,\n",
              " 'windows': 1,\n",
              " 'mac': 1,\n",
              " 'os': 1,\n",
              " 'x': 1,\n",
              " 'linux': 1,\n",
              " 'best': 1,\n",
              " 'of': 1,\n",
              " 'all': 1,\n",
              " 'free': 1,\n",
              " 'open': 1,\n",
              " 'source': 1,\n",
              " 'community': 1,\n",
              " 'driven': 1,\n",
              " 'project': 1,\n",
              " 'has': 1,\n",
              " 'been': 1,\n",
              " 'called': 1,\n",
              " 'wonderful': 1,\n",
              " 'tool': 1,\n",
              " 'teaching': 1,\n",
              " 'working': 1,\n",
              " 'using': 1,\n",
              " 'python': 1,\n",
              " 'an': 1,\n",
              " 'amazing': 1,\n",
              " 'library': 1,\n",
              " 'play': 1,\n",
              " 'with': 1,\n",
              " 'natural': 1,\n",
              " 'language': 1}"
            ]
          },
          "metadata": {},
          "execution_count": 73
        }
      ]
    },
    {
      "cell_type": "code",
      "source": [
        "sentences = re.sub('[^A-Za-z0-9]+', ' ', sentences)\n",
        "\n",
        "sentences = re.sub(r'(?:^| )\\w(?:$| )', ' ', sentences).strip()\n",
        "\n",
        "sentences = sentences.lower()\n",
        "sentences"
      ],
      "metadata": {
        "id": "rPpahruHsyNa",
        "colab": {
          "base_uri": "https://localhost:8080/",
          "height": 88
        },
        "outputId": "40fc17bc-fc1b-4830-d6e9-d9fc8f2d095a"
      },
      "execution_count": null,
      "outputs": [
        {
          "output_type": "execute_result",
          "data": {
            "text/plain": [
              "'thanks to hands on guide introducing programming fundamentals alongside topics in computational linguistics plus comprehensive api documentation uitable for linguists engineers students educators researchers and industry users alike nltk is available for windows mac os and linux best of all nltk is free open source community driven project nltk has been called wonderful tool for teaching and working in computational linguistics using python and an amazing library to play with natural language'"
            ],
            "application/vnd.google.colaboratory.intrinsic+json": {
              "type": "string"
            }
          },
          "metadata": {},
          "execution_count": 74
        }
      ]
    },
    {
      "cell_type": "code",
      "source": [
        "words = sentences.split()\n",
        "vocab = set(words)\n",
        "vocab_size = len(vocab)\n",
        "embed_dim = 10\n",
        "context_size = 2\n",
        "vocab"
      ],
      "metadata": {
        "id": "b1D7Y4tjs2ZT",
        "colab": {
          "base_uri": "https://localhost:8080/"
        },
        "outputId": "88332966-e6a4-4a16-f715-1b9e6fb347e6"
      },
      "execution_count": null,
      "outputs": [
        {
          "output_type": "execute_result",
          "data": {
            "text/plain": [
              "{'alike',\n",
              " 'all',\n",
              " 'alongside',\n",
              " 'amazing',\n",
              " 'an',\n",
              " 'and',\n",
              " 'api',\n",
              " 'available',\n",
              " 'been',\n",
              " 'best',\n",
              " 'called',\n",
              " 'community',\n",
              " 'comprehensive',\n",
              " 'computational',\n",
              " 'documentation',\n",
              " 'driven',\n",
              " 'educators',\n",
              " 'engineers',\n",
              " 'for',\n",
              " 'free',\n",
              " 'fundamentals',\n",
              " 'guide',\n",
              " 'hands',\n",
              " 'has',\n",
              " 'in',\n",
              " 'industry',\n",
              " 'introducing',\n",
              " 'is',\n",
              " 'language',\n",
              " 'library',\n",
              " 'linguistics',\n",
              " 'linguists',\n",
              " 'linux',\n",
              " 'mac',\n",
              " 'natural',\n",
              " 'nltk',\n",
              " 'of',\n",
              " 'on',\n",
              " 'open',\n",
              " 'os',\n",
              " 'play',\n",
              " 'plus',\n",
              " 'programming',\n",
              " 'project',\n",
              " 'python',\n",
              " 'researchers',\n",
              " 'source',\n",
              " 'students',\n",
              " 'teaching',\n",
              " 'thanks',\n",
              " 'to',\n",
              " 'tool',\n",
              " 'topics',\n",
              " 'uitable',\n",
              " 'users',\n",
              " 'using',\n",
              " 'windows',\n",
              " 'with',\n",
              " 'wonderful',\n",
              " 'working'}"
            ]
          },
          "metadata": {},
          "execution_count": 75
        }
      ]
    },
    {
      "cell_type": "code",
      "source": [
        "def calculateBOW(vocab,words):\n",
        "  tf_diz = dict.fromkeys(vocab,0)\n",
        "  for word in words:\n",
        "      tf_diz[word]=words.count(word)\n",
        "  return tf_diz"
      ],
      "metadata": {
        "id": "4HMnKTvnINcA"
      },
      "execution_count": null,
      "outputs": []
    },
    {
      "cell_type": "code",
      "source": [
        "import pandas as pd\n",
        "bow1 = calculateBOW(vocab,words)\n",
        "df_bow = pd.DataFrame([bow1])\n",
        "df_bow.head()"
      ],
      "metadata": {
        "colab": {
          "base_uri": "https://localhost:8080/",
          "height": 174
        },
        "id": "jBAbd3_XOgst",
        "outputId": "dfd61070-eef1-40b2-d540-c92b18e6ecc3"
      },
      "execution_count": null,
      "outputs": [
        {
          "output_type": "execute_result",
          "data": {
            "text/plain": [
              "   industry  play  users  engineers  for  educators  nltk  mac  hands  \\\n",
              "0         1     1      1          1    3          1     3    1      1   \n",
              "\n",
              "   programming  ...  with  available  students  best  driven  language  \\\n",
              "0            1  ...     1          1         1     1       1         1   \n",
              "\n",
              "   fundamentals  free  wonderful  documentation  \n",
              "0             1     1          1              1  \n",
              "\n",
              "[1 rows x 60 columns]"
            ],
            "text/html": [
              "\n",
              "  <div id=\"df-58788b3e-885a-48dd-a094-580e1ad1c32d\">\n",
              "    <div class=\"colab-df-container\">\n",
              "      <div>\n",
              "<style scoped>\n",
              "    .dataframe tbody tr th:only-of-type {\n",
              "        vertical-align: middle;\n",
              "    }\n",
              "\n",
              "    .dataframe tbody tr th {\n",
              "        vertical-align: top;\n",
              "    }\n",
              "\n",
              "    .dataframe thead th {\n",
              "        text-align: right;\n",
              "    }\n",
              "</style>\n",
              "<table border=\"1\" class=\"dataframe\">\n",
              "  <thead>\n",
              "    <tr style=\"text-align: right;\">\n",
              "      <th></th>\n",
              "      <th>industry</th>\n",
              "      <th>play</th>\n",
              "      <th>users</th>\n",
              "      <th>engineers</th>\n",
              "      <th>for</th>\n",
              "      <th>educators</th>\n",
              "      <th>nltk</th>\n",
              "      <th>mac</th>\n",
              "      <th>hands</th>\n",
              "      <th>programming</th>\n",
              "      <th>...</th>\n",
              "      <th>with</th>\n",
              "      <th>available</th>\n",
              "      <th>students</th>\n",
              "      <th>best</th>\n",
              "      <th>driven</th>\n",
              "      <th>language</th>\n",
              "      <th>fundamentals</th>\n",
              "      <th>free</th>\n",
              "      <th>wonderful</th>\n",
              "      <th>documentation</th>\n",
              "    </tr>\n",
              "  </thead>\n",
              "  <tbody>\n",
              "    <tr>\n",
              "      <th>0</th>\n",
              "      <td>1</td>\n",
              "      <td>1</td>\n",
              "      <td>1</td>\n",
              "      <td>1</td>\n",
              "      <td>3</td>\n",
              "      <td>1</td>\n",
              "      <td>3</td>\n",
              "      <td>1</td>\n",
              "      <td>1</td>\n",
              "      <td>1</td>\n",
              "      <td>...</td>\n",
              "      <td>1</td>\n",
              "      <td>1</td>\n",
              "      <td>1</td>\n",
              "      <td>1</td>\n",
              "      <td>1</td>\n",
              "      <td>1</td>\n",
              "      <td>1</td>\n",
              "      <td>1</td>\n",
              "      <td>1</td>\n",
              "      <td>1</td>\n",
              "    </tr>\n",
              "  </tbody>\n",
              "</table>\n",
              "<p>1 rows × 60 columns</p>\n",
              "</div>\n",
              "      <button class=\"colab-df-convert\" onclick=\"convertToInteractive('df-58788b3e-885a-48dd-a094-580e1ad1c32d')\"\n",
              "              title=\"Convert this dataframe to an interactive table.\"\n",
              "              style=\"display:none;\">\n",
              "        \n",
              "  <svg xmlns=\"http://www.w3.org/2000/svg\" height=\"24px\"viewBox=\"0 0 24 24\"\n",
              "       width=\"24px\">\n",
              "    <path d=\"M0 0h24v24H0V0z\" fill=\"none\"/>\n",
              "    <path d=\"M18.56 5.44l.94 2.06.94-2.06 2.06-.94-2.06-.94-.94-2.06-.94 2.06-2.06.94zm-11 1L8.5 8.5l.94-2.06 2.06-.94-2.06-.94L8.5 2.5l-.94 2.06-2.06.94zm10 10l.94 2.06.94-2.06 2.06-.94-2.06-.94-.94-2.06-.94 2.06-2.06.94z\"/><path d=\"M17.41 7.96l-1.37-1.37c-.4-.4-.92-.59-1.43-.59-.52 0-1.04.2-1.43.59L10.3 9.45l-7.72 7.72c-.78.78-.78 2.05 0 2.83L4 21.41c.39.39.9.59 1.41.59.51 0 1.02-.2 1.41-.59l7.78-7.78 2.81-2.81c.8-.78.8-2.07 0-2.86zM5.41 20L4 18.59l7.72-7.72 1.47 1.35L5.41 20z\"/>\n",
              "  </svg>\n",
              "      </button>\n",
              "      \n",
              "  <style>\n",
              "    .colab-df-container {\n",
              "      display:flex;\n",
              "      flex-wrap:wrap;\n",
              "      gap: 12px;\n",
              "    }\n",
              "\n",
              "    .colab-df-convert {\n",
              "      background-color: #E8F0FE;\n",
              "      border: none;\n",
              "      border-radius: 50%;\n",
              "      cursor: pointer;\n",
              "      display: none;\n",
              "      fill: #1967D2;\n",
              "      height: 32px;\n",
              "      padding: 0 0 0 0;\n",
              "      width: 32px;\n",
              "    }\n",
              "\n",
              "    .colab-df-convert:hover {\n",
              "      background-color: #E2EBFA;\n",
              "      box-shadow: 0px 1px 2px rgba(60, 64, 67, 0.3), 0px 1px 3px 1px rgba(60, 64, 67, 0.15);\n",
              "      fill: #174EA6;\n",
              "    }\n",
              "\n",
              "    [theme=dark] .colab-df-convert {\n",
              "      background-color: #3B4455;\n",
              "      fill: #D2E3FC;\n",
              "    }\n",
              "\n",
              "    [theme=dark] .colab-df-convert:hover {\n",
              "      background-color: #434B5C;\n",
              "      box-shadow: 0px 1px 3px 1px rgba(0, 0, 0, 0.15);\n",
              "      filter: drop-shadow(0px 1px 2px rgba(0, 0, 0, 0.3));\n",
              "      fill: #FFFFFF;\n",
              "    }\n",
              "  </style>\n",
              "\n",
              "      <script>\n",
              "        const buttonEl =\n",
              "          document.querySelector('#df-58788b3e-885a-48dd-a094-580e1ad1c32d button.colab-df-convert');\n",
              "        buttonEl.style.display =\n",
              "          google.colab.kernel.accessAllowed ? 'block' : 'none';\n",
              "\n",
              "        async function convertToInteractive(key) {\n",
              "          const element = document.querySelector('#df-58788b3e-885a-48dd-a094-580e1ad1c32d');\n",
              "          const dataTable =\n",
              "            await google.colab.kernel.invokeFunction('convertToInteractive',\n",
              "                                                     [key], {});\n",
              "          if (!dataTable) return;\n",
              "\n",
              "          const docLinkHtml = 'Like what you see? Visit the ' +\n",
              "            '<a target=\"_blank\" href=https://colab.research.google.com/notebooks/data_table.ipynb>data table notebook</a>'\n",
              "            + ' to learn more about interactive tables.';\n",
              "          element.innerHTML = '';\n",
              "          dataTable['output_type'] = 'display_data';\n",
              "          await google.colab.output.renderOutput(dataTable, element);\n",
              "          const docLink = document.createElement('div');\n",
              "          docLink.innerHTML = docLinkHtml;\n",
              "          element.appendChild(docLink);\n",
              "        }\n",
              "      </script>\n",
              "    </div>\n",
              "  </div>\n",
              "  "
            ]
          },
          "metadata": {},
          "execution_count": 77
        }
      ]
    },
    {
      "cell_type": "code",
      "source": [
        "word_to_ix = {word: i for i, word in enumerate(vocab)}\n",
        "ix_to_word = {i: word for i, word in enumerate(vocab)}"
      ],
      "metadata": {
        "id": "9_Bsiy69s5Ht"
      },
      "execution_count": null,
      "outputs": []
    },
    {
      "cell_type": "code",
      "source": [
        "data = []\n",
        "for i in range(2, len(words) - 2):\n",
        "    context = [words[i - 2], words[i - 1], words[i + 1], words[i + 2]]\n",
        "    target = words[i]\n",
        "    data.append((context, target))\n",
        "print(data[:5])"
      ],
      "metadata": {
        "colab": {
          "base_uri": "https://localhost:8080/"
        },
        "id": "wTpB1-shs7tX",
        "outputId": "59f0707f-c457-4215-f8bd-054741207de1"
      },
      "execution_count": null,
      "outputs": [
        {
          "output_type": "stream",
          "name": "stdout",
          "text": [
            "[(['thanks', 'to', 'on', 'guide'], 'hands'), (['to', 'hands', 'guide', 'introducing'], 'on'), (['hands', 'on', 'introducing', 'programming'], 'guide'), (['on', 'guide', 'programming', 'fundamentals'], 'introducing'), (['guide', 'introducing', 'fundamentals', 'alongside'], 'programming')]\n"
          ]
        }
      ]
    },
    {
      "cell_type": "code",
      "source": [],
      "metadata": {
        "id": "oapw47UtP19m"
      },
      "execution_count": null,
      "outputs": []
    },
    {
      "cell_type": "code",
      "source": [
        "embeddings =  np.random.random_sample((vocab_size, embed_dim))"
      ],
      "metadata": {
        "id": "i5Cr8uYWs-gP"
      },
      "execution_count": null,
      "outputs": []
    },
    {
      "cell_type": "code",
      "source": [
        "def linear(m, theta):\n",
        "    w = theta\n",
        "    return m.dot(w)"
      ],
      "metadata": {
        "id": "lcQHK6j9tBtk"
      },
      "execution_count": null,
      "outputs": []
    },
    {
      "cell_type": "code",
      "source": [
        "def log_softmax(x):\n",
        "    e_x = np.exp(x - np.max(x))\n",
        "    return np.log(e_x / e_x.sum())\n",
        "def NLLLoss(logs, targets):\n",
        "    out = logs[range(len(targets)), targets]\n",
        "    return -out.sum()/len(out)"
      ],
      "metadata": {
        "id": "KhiQiHCItEFs"
      },
      "execution_count": null,
      "outputs": []
    },
    {
      "cell_type": "code",
      "source": [
        "def log_softmax_crossentropy_with_logits(logits,target):\n",
        "\n",
        "    out = np.zeros_like(logits)\n",
        "    out[np.arange(len(logits)),target] = 1\n",
        "    \n",
        "    softmax = np.exp(logits) / np.exp(logits).sum(axis=-1,keepdims=True)\n",
        "    \n",
        "    return (- out + softmax) / logits.shape[0]"
      ],
      "metadata": {
        "id": "gjDCxN7dtGrd"
      },
      "execution_count": null,
      "outputs": []
    },
    {
      "cell_type": "code",
      "source": [
        "def forward(context_idxs, theta):\n",
        "    m = embeddings[context_idxs].reshape(1, -1)\n",
        "    n = linear(m, theta)\n",
        "    o = log_softmax(n)\n",
        "    \n",
        "    return m, n, o"
      ],
      "metadata": {
        "id": "EJEqshrFtJPt"
      },
      "execution_count": null,
      "outputs": []
    },
    {
      "cell_type": "code",
      "source": [
        "def backward(preds, theta, target_idxs):\n",
        "    m, n, o = preds\n",
        "    \n",
        "    dlog = log_softmax_crossentropy_with_logits(n, target_idxs)\n",
        "    dw = m.T.dot(dlog)\n",
        "    \n",
        "    return dw"
      ],
      "metadata": {
        "id": "93MlsuLDtLl8"
      },
      "execution_count": null,
      "outputs": []
    },
    {
      "cell_type": "code",
      "source": [
        "def optimize(theta, grad, lr=0.03):\n",
        "    theta -= grad * lr\n",
        "    return theta"
      ],
      "metadata": {
        "id": "zm3TaikJtOSM"
      },
      "execution_count": null,
      "outputs": []
    },
    {
      "cell_type": "code",
      "source": [
        "theta = np.random.uniform(-1, 1, (2 * context_size * embed_dim, vocab_size))"
      ],
      "metadata": {
        "id": "3CDxrBq4tQga"
      },
      "execution_count": null,
      "outputs": []
    },
    {
      "cell_type": "code",
      "source": [
        "epoch_losses = {}\n",
        "\n",
        "for epoch in range(80):\n",
        "\n",
        "    losses =  []\n",
        "\n",
        "    for context, target in data:\n",
        "        context_idxs = np.array([word_to_ix[w] for w in context])\n",
        "        preds = forward(context_idxs, theta)\n",
        "\n",
        "        target_idxs = np.array([word_to_ix[target]])\n",
        "        loss = NLLLoss(preds[-1], target_idxs)\n",
        "\n",
        "        losses.append(loss)\n",
        "\n",
        "        grad = backward(preds, theta, target_idxs)\n",
        "        theta = optimize(theta, grad, lr=0.03)\n",
        "\n",
        "        epoch_losses[epoch] = losses"
      ],
      "metadata": {
        "id": "_pP9Pj1ItTkL"
      },
      "execution_count": null,
      "outputs": []
    },
    {
      "cell_type": "code",
      "source": [
        "ix = np.arange(0,80)\n",
        "\n",
        "fig = plt.figure()\n",
        "fig.suptitle('Epoch/Losses', fontsize=20)\n",
        "plt.plot(ix,[epoch_losses[i][0] for i in ix])\n",
        "plt.xlabel('Epochs', fontsize=12)\n",
        "plt.ylabel('Losses', fontsize=12)"
      ],
      "metadata": {
        "colab": {
          "base_uri": "https://localhost:8080/",
          "height": 328
        },
        "id": "JTUXgRaItWrB",
        "outputId": "e160d6b9-2c66-4437-afef-94aa5a4ccde0"
      },
      "execution_count": null,
      "outputs": [
        {
          "output_type": "execute_result",
          "data": {
            "text/plain": [
              "Text(0, 0.5, 'Losses')"
            ]
          },
          "metadata": {},
          "execution_count": 90
        },
        {
          "output_type": "display_data",
          "data": {
            "text/plain": [
              "<Figure size 432x288 with 1 Axes>"
            ],
            "image/png": "[encoded data removed]"
          },
          "metadata": {
            "needs_background": "light"
          }
        }
      ]
    },
    {
      "cell_type": "code",
      "source": [
        "def predict(words):\n",
        "    context_idxs = np.array([word_to_ix[w] for w in words])\n",
        "    preds = forward(context_idxs, theta)\n",
        "    word = ix_to_word[np.argmax(preds[-1])]\n",
        "    \n",
        "    return word\n",
        "predict(['to', 'hands', 'guide', 'introducing'])"
      ],
      "metadata": {
        "colab": {
          "base_uri": "https://localhost:8080/",
          "height": 36
        },
        "id": "ZJSFXBx0tY0F",
        "outputId": "b375393e-a3f8-42fc-d2ac-4102cc7b3ae1"
      },
      "execution_count": null,
      "outputs": [
        {
          "output_type": "execute_result",
          "data": {
            "text/plain": [
              "'on'"
            ],
            "application/vnd.google.colaboratory.intrinsic+json": {
              "type": "string"
            }
          },
          "metadata": {},
          "execution_count": 91
        }
      ]
    },
    {
      "cell_type": "code",
      "source": [
        "def accuracy():\n",
        "    wrong = 0\n",
        "\n",
        "    for context, target in data:\n",
        "        if(predict(context) != target):\n",
        "            wrong += 1\n",
        "            \n",
        "    return round((1 - (wrong / len(data))),3)\n",
        "accuracy()"
      ],
      "metadata": {
        "colab": {
          "base_uri": "https://localhost:8080/"
        },
        "id": "tHIemg6ytbgB",
        "outputId": "8dd60b43-1742-4ad7-bfef-161ea75231a4"
      },
      "execution_count": null,
      "outputs": [
        {
          "output_type": "execute_result",
          "data": {
            "text/plain": [
              "1.0"
            ]
          },
          "metadata": {},
          "execution_count": 92
        }
      ]
    },
    {
      "cell_type": "code",
      "source": [],
      "metadata": {
        "id": "uSeu8sHwuGwa"
      },
      "execution_count": null,
      "outputs": []
    }
  ]
}
